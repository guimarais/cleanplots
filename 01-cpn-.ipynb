{
 "cells": [
  {
   "cell_type": "code",
   "execution_count": 1,
   "id": "46fe50c1-cc84-4baf-ab38-6fb686e5d1ce",
   "metadata": {
    "tags": []
   },
   "outputs": [],
   "source": [
    "import pandas as pd\n",
    "import matplotlib.pyplot as plt\n",
    "import seaborn as sns\n",
    "import matplotlib"
   ]
  },
  {
   "cell_type": "code",
   "execution_count": 2,
   "id": "bbad1d2b-986c-434e-ab8d-853f45c41549",
   "metadata": {
    "tags": []
   },
   "outputs": [],
   "source": [
    "df = pd.read_csv(\"./cpn/importacoes.csv\")\n",
    "\n",
    "#df['ano'] = pd.to_datetime(df['ano'])\n",
    "#df.set_index('ano', inplace=True)\n",
    "\n",
    "df['positive'] = df['import'] > 0\n",
    "\n",
    "df['color'] = df.positive.map({True: '#FF0000', False: '#00AA00'})"
   ]
  },
  {
   "cell_type": "code",
   "execution_count": 5,
   "id": "b028b349-e34c-4f19-9174-1cc2ee10c381",
   "metadata": {
    "tags": []
   },
   "outputs": [],
   "source": [
    "font = {'family' : 'sans-serif',\n",
    "        'weight' : 'bold',\n",
    "        'size'   : 15}\n",
    "\n",
    "matplotlib.rc('font', **font)"
   ]
  },
  {
   "cell_type": "code",
   "execution_count": 6,
   "id": "fe2ed58a-aebc-48e0-8dd4-14da54736f8c",
   "metadata": {
    "tags": []
   },
   "outputs": [
    {
     "data": {
      "image/png": "[encoded data removed]",
      "text/plain": [
       "<Figure size 800x600 with 1 Axes>"
      ]
     },
     "metadata": {},
     "output_type": "display_data"
    }
   ],
   "source": [
    "fig, ax = plt.subplots(figsize=(8,6))\n",
    "\n",
    "sns.barplot(data=df, x='ano', y='import',label=True, palette=df.color)\n",
    "sns.despine(offset=10, trim=True);\n",
    "\n",
    "ax.bar_label(ax.containers[0], color='w')\n",
    "\n",
    "ax.spines[['left', 'bottom']].set_visible(False)\n",
    "ax.set_yticks([])\n",
    "ax.set_ylabel(\"\")\n",
    "\n",
    "ax.set_xlabel(\"Ano\", fontsize=18, color='w')\n",
    "ax.set_title(\"Importações Portuguesas de eletricidade em M€\", loc='left', fontsize=18, color='w')\n",
    "\n",
    "ax.xaxis.label.set_color('white')\n",
    "ax.tick_params(axis='x', colors='w')\n",
    "ax.text(0, 0.98, \"Fonte: DGEG\", va='top', transform=ax.transAxes, color='w')\n",
    "#ax.annotate(\"Fonte: DGEG\", xy=(35,10), xycoords='figure points', color='w')\n",
    "\n",
    "plt.tight_layout()\n",
    "plt.savefig(\"importacoes.png\", dpi=300, transparent=True)\n",
    "#plt.savefig(\"importacoes_transparente.png\", dpi=300, transparent=True)\n",
    "plt.show()"
   ]
  },
  {
   "cell_type": "markdown",
   "id": "254ad57d-4b10-4efe-adf8-328ce1e7f59e",
   "metadata": {},
   "source": [
    "---"
   ]
  },
  {
   "cell_type": "code",
   "execution_count": null,
   "id": "37da6c11-bb62-4d88-ab8e-fe2b025039eb",
   "metadata": {},
   "outputs": [],
   "source": []
  }
 ],
 "metadata": {
  "kernelspec": {
   "display_name": "Python 3 (ipykernel)",
   "language": "python",
   "name": "python3"
  },
  "language_info": {
   "codemirror_mode": {
    "name": "ipython",
    "version": 3
   },
   "file_extension": ".py",
   "mimetype": "text/x-python",
   "name": "python",
   "nbconvert_exporter": "python",
   "pygments_lexer": "ipython3",
   "version": "3.11.5"
  }
 },
 "nbformat": 4,
 "nbformat_minor": 5
}
