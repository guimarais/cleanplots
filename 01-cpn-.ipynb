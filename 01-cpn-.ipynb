{
 "cells": [
  {
   "cell_type": "code",
   "execution_count": 3,
   "id": "46fe50c1-cc84-4baf-ab38-6fb686e5d1ce",
   "metadata": {
    "tags": []
   },
   "outputs": [],
   "source": [
    "import pandas as pd\n",
    "import matplotlib.pyplot as plt\n",
    "import seaborn as sns\n",
    "import matplotlib"
   ]
  },
  {
   "cell_type": "code",
   "execution_count": 4,
   "id": "bbad1d2b-986c-434e-ab8d-853f45c41549",
   "metadata": {
    "tags": []
   },
   "outputs": [],
   "source": [
    "df = pd.read_csv(\"./cpn/importacoes.csv\")\n",
    "\n",
    "#df['ano'] = pd.to_datetime(df['ano'])\n",
    "#df.set_index('ano', inplace=True)\n",
    "\n",
    "df['positive'] = df['import'] > 0\n",
    "\n",
    "df['color'] = df.positive.map({True: '#FF0000', False: '#00AA00'})"
   ]
  },
  {
   "cell_type": "code",
   "execution_count": 27,
   "id": "b028b349-e34c-4f19-9174-1cc2ee10c381",
   "metadata": {
    "tags": []
   },
   "outputs": [],
   "source": [
    "font = {'family' : 'Ubuntu',\n",
    "        'weight' : 'bold',\n",
    "        'size'   : 16}\n",
    "\n",
    "matplotlib.rc('font', **font)"
   ]
  },
  {
   "cell_type": "code",
   "execution_count": 28,
   "id": "da7b6ff2-f7fe-4125-bcee-50862f1cca55",
   "metadata": {},
   "outputs": [],
   "source": [
    "# A partir do 0.13 do Seaborn, o eixo dos XX tem de ser categórico\n",
    "df['ano'] = df['ano'].astype('str')"
   ]
  },
  {
   "cell_type": "code",
   "execution_count": 29,
   "id": "e46237dd-21c7-461e-86e4-a07c8479d9b4",
   "metadata": {},
   "outputs": [],
   "source": [
    "# A palette tem de ser uma lista... a qualidade disto regrediu imenso\n",
    "colors = list(df.color)"
   ]
  },
  {
   "cell_type": "code",
   "execution_count": 46,
   "id": "3d3a03d9-ddf5-4563-9134-99dbd4f25ed7",
   "metadata": {
    "tags": []
   },
   "outputs": [
    {
     "data": {
      "image/png": "[encoded data removed]",
      "text/plain": [
       "<Figure size 800x600 with 1 Axes>"
      ]
     },
     "metadata": {},
     "output_type": "display_data"
    }
   ],
   "source": [
    "fig, ax = plt.subplots(figsize=(8,6))\n",
    "\n",
    "letter_color ='w'\n",
    "\n",
    "sns.barplot(data=df, x='ano', y='import', hue='ano', palette=colors)\n",
    "sns.despine(offset=11, trim=True);\n",
    "\n",
    "for i in range(len(ax.containers)):\n",
    "    ax.bar_label(ax.containers[i], color=letter_color)\n",
    "\n",
    "ax.spines[['left', 'bottom']].set_visible(False)\n",
    "ax.set_yticks([])\n",
    "ax.set_ylabel(\"\")\n",
    "\n",
    "ax.set_xlabel(\"Ano\", fontsize=18, color=letter_color)\n",
    "ax.set_title(\"Importações Portuguesas de eletricidade em M€\", loc='left', fontsize=18, color=letter_color)\n",
    "\n",
    "ax.xaxis.label.set_color('white')\n",
    "\n",
    "ax.tick_params(axis='x', colors=letter_color)\n",
    "ax.text(0, 0.98, \"Fonte: DGEG\", va='top', transform=ax.transAxes, color=letter_color)\n",
    "#ax.annotate(\"Fonte: DGEG\", xy=(35,10), xycoords='figure points', color='w')\n",
    "\n",
    "#ax.legend().set_visible(False)\n",
    "\n",
    "plt.tight_layout()\n",
    "#plt.savefig(\"importacoes.png\", dpi=300, transparent=True)\n",
    "plt.savefig(\"importacoes_eletricidade_transparente.png\", dpi=300, transparent=True)\n",
    "plt.show()"
   ]
  },
  {
   "cell_type": "markdown",
   "id": "254ad57d-4b10-4efe-adf8-328ce1e7f59e",
   "metadata": {},
   "source": [
    "---"
   ]
  }
 ],
 "metadata": {
  "kernelspec": {
   "display_name": "Python 3 (ipykernel)",
   "language": "python",
   "name": "python3"
  },
  "language_info": {
   "codemirror_mode": {
    "name": "ipython",
    "version": 3
   },
   "file_extension": ".py",
   "mimetype": "text/x-python",
   "name": "python",
   "nbconvert_exporter": "python",
   "pygments_lexer": "ipython3",
   "version": "3.12.7"
  }
 },
 "nbformat": 4,
 "nbformat_minor": 5
}
