{
 "cells": [
  {
   "cell_type": "code",
   "execution_count": 1,
   "id": "46fe50c1-cc84-4baf-ab38-6fb686e5d1ce",
   "metadata": {
    "tags": []
   },
   "outputs": [],
   "source": [
    "import pandas as pd\n",
    "import matplotlib.pyplot as plt\n",
    "import seaborn as sns\n",
    "import matplotlib"
   ]
  },
  {
   "cell_type": "code",
   "execution_count": 2,
   "id": "bbad1d2b-986c-434e-ab8d-853f45c41549",
   "metadata": {
    "tags": []
   },
   "outputs": [],
   "source": [
    "df = pd.read_csv(\"./cpn/fontes.csv\")\n",
    "\n",
    "#df['ano'] = pd.to_datetime(df['ano'])\n",
    "#df.set_index('ano', inplace=True)\n",
    "\n",
    "#df['positive'] = df['import'] > 0\n",
    "\n",
    "#df['color'] = df.positive.map({True: '#FF0000', False: '#00AA00'})"
   ]
  },
  {
   "cell_type": "code",
   "execution_count": 3,
   "id": "066affc1-db7b-44d4-8f19-586218e5fab4",
   "metadata": {
    "tags": []
   },
   "outputs": [
    {
     "data": {
      "text/html": [
       "<div>\n",
       "<style scoped>\n",
       "    .dataframe tbody tr th:only-of-type {\n",
       "        vertical-align: middle;\n",
       "    }\n",
       "\n",
       "    .dataframe tbody tr th {\n",
       "        vertical-align: top;\n",
       "    }\n",
       "\n",
       "    .dataframe thead th {\n",
       "        text-align: right;\n",
       "    }\n",
       "</style>\n",
       "<table border=\"1\" class=\"dataframe\">\n",
       "  <thead>\n",
       "    <tr style=\"text-align: right;\">\n",
       "      <th></th>\n",
       "      <th>Ano</th>\n",
       "      <th>Carvão</th>\n",
       "      <th>Petróleo e Derivados</th>\n",
       "      <th>Gás natural</th>\n",
       "      <th>Electricidade</th>\n",
       "      <th>Biomassas e biocombustíveis</th>\n",
       "    </tr>\n",
       "  </thead>\n",
       "  <tbody>\n",
       "    <tr>\n",
       "      <th>0</th>\n",
       "      <td>1998</td>\n",
       "      <td>11</td>\n",
       "      <td>1224</td>\n",
       "      <td>65</td>\n",
       "      <td>11</td>\n",
       "      <td>0</td>\n",
       "    </tr>\n",
       "    <tr>\n",
       "      <th>1</th>\n",
       "      <td>2004</td>\n",
       "      <td>261</td>\n",
       "      <td>3233</td>\n",
       "      <td>462</td>\n",
       "      <td>130</td>\n",
       "      <td>0</td>\n",
       "    </tr>\n",
       "    <tr>\n",
       "      <th>2</th>\n",
       "      <td>2008</td>\n",
       "      <td>455</td>\n",
       "      <td>5881</td>\n",
       "      <td>1249</td>\n",
       "      <td>634</td>\n",
       "      <td>0</td>\n",
       "    </tr>\n",
       "    <tr>\n",
       "      <th>3</th>\n",
       "      <td>2012</td>\n",
       "      <td>342</td>\n",
       "      <td>5059</td>\n",
       "      <td>1432</td>\n",
       "      <td>375</td>\n",
       "      <td>-71</td>\n",
       "    </tr>\n",
       "    <tr>\n",
       "      <th>4</th>\n",
       "      <td>2014</td>\n",
       "      <td>231</td>\n",
       "      <td>4035</td>\n",
       "      <td>1493</td>\n",
       "      <td>44</td>\n",
       "      <td>-91</td>\n",
       "    </tr>\n",
       "  </tbody>\n",
       "</table>\n",
       "</div>"
      ],
      "text/plain": [
       "    Ano  Carvão  Petróleo e Derivados  Gás natural  Electricidade  \\\n",
       "0  1998      11                  1224           65             11   \n",
       "1  2004     261                  3233          462            130   \n",
       "2  2008     455                  5881         1249            634   \n",
       "3  2012     342                  5059         1432            375   \n",
       "4  2014     231                  4035         1493             44   \n",
       "\n",
       "   Biomassas e biocombustíveis  \n",
       "0                            0  \n",
       "1                            0  \n",
       "2                            0  \n",
       "3                          -71  \n",
       "4                          -91  "
      ]
     },
     "execution_count": 3,
     "metadata": {},
     "output_type": "execute_result"
    }
   ],
   "source": [
    "df.head()"
   ]
  },
  {
   "cell_type": "code",
   "execution_count": 4,
   "id": "b028b349-e34c-4f19-9174-1cc2ee10c381",
   "metadata": {
    "tags": []
   },
   "outputs": [],
   "source": [
    "font = {'family' : 'sans-serif',\n",
    "        'weight' : 'bold',\n",
    "        'size'   : 15}\n",
    "\n",
    "matplotlib.rc('font', **font)"
   ]
  },
  {
   "cell_type": "code",
   "execution_count": 5,
   "id": "4f03148b-9569-4e8a-881a-720aafad6f80",
   "metadata": {
    "tags": []
   },
   "outputs": [],
   "source": [
    "#df.set_index('Ano', inplace=True)"
   ]
  },
  {
   "cell_type": "code",
   "execution_count": 6,
   "id": "dd9d2a59-4b34-40e2-8148-8a95d7194aaf",
   "metadata": {
    "tags": []
   },
   "outputs": [
    {
     "data": {
      "text/html": [
       "<div>\n",
       "<style scoped>\n",
       "    .dataframe tbody tr th:only-of-type {\n",
       "        vertical-align: middle;\n",
       "    }\n",
       "\n",
       "    .dataframe tbody tr th {\n",
       "        vertical-align: top;\n",
       "    }\n",
       "\n",
       "    .dataframe thead th {\n",
       "        text-align: right;\n",
       "    }\n",
       "</style>\n",
       "<table border=\"1\" class=\"dataframe\">\n",
       "  <thead>\n",
       "    <tr style=\"text-align: right;\">\n",
       "      <th></th>\n",
       "      <th>Ano</th>\n",
       "      <th>Carvão</th>\n",
       "      <th>Petróleo e Derivados</th>\n",
       "      <th>Gás natural</th>\n",
       "      <th>Electricidade</th>\n",
       "      <th>Biomassas e biocombustíveis</th>\n",
       "    </tr>\n",
       "  </thead>\n",
       "  <tbody>\n",
       "    <tr>\n",
       "      <th>0</th>\n",
       "      <td>1998</td>\n",
       "      <td>11</td>\n",
       "      <td>1224</td>\n",
       "      <td>65</td>\n",
       "      <td>11</td>\n",
       "      <td>0</td>\n",
       "    </tr>\n",
       "    <tr>\n",
       "      <th>1</th>\n",
       "      <td>2004</td>\n",
       "      <td>261</td>\n",
       "      <td>3233</td>\n",
       "      <td>462</td>\n",
       "      <td>130</td>\n",
       "      <td>0</td>\n",
       "    </tr>\n",
       "    <tr>\n",
       "      <th>2</th>\n",
       "      <td>2008</td>\n",
       "      <td>455</td>\n",
       "      <td>5881</td>\n",
       "      <td>1249</td>\n",
       "      <td>634</td>\n",
       "      <td>0</td>\n",
       "    </tr>\n",
       "    <tr>\n",
       "      <th>3</th>\n",
       "      <td>2012</td>\n",
       "      <td>342</td>\n",
       "      <td>5059</td>\n",
       "      <td>1432</td>\n",
       "      <td>375</td>\n",
       "      <td>-71</td>\n",
       "    </tr>\n",
       "    <tr>\n",
       "      <th>4</th>\n",
       "      <td>2014</td>\n",
       "      <td>231</td>\n",
       "      <td>4035</td>\n",
       "      <td>1493</td>\n",
       "      <td>44</td>\n",
       "      <td>-91</td>\n",
       "    </tr>\n",
       "  </tbody>\n",
       "</table>\n",
       "</div>"
      ],
      "text/plain": [
       "    Ano  Carvão  Petróleo e Derivados  Gás natural  Electricidade  \\\n",
       "0  1998      11                  1224           65             11   \n",
       "1  2004     261                  3233          462            130   \n",
       "2  2008     455                  5881         1249            634   \n",
       "3  2012     342                  5059         1432            375   \n",
       "4  2014     231                  4035         1493             44   \n",
       "\n",
       "   Biomassas e biocombustíveis  \n",
       "0                            0  \n",
       "1                            0  \n",
       "2                            0  \n",
       "3                          -71  \n",
       "4                          -91  "
      ]
     },
     "execution_count": 6,
     "metadata": {},
     "output_type": "execute_result"
    }
   ],
   "source": [
    "df.head()"
   ]
  },
  {
   "cell_type": "code",
   "execution_count": 7,
   "id": "c06e45cd-c85b-42fc-91a9-e9f706fabd8d",
   "metadata": {
    "tags": []
   },
   "outputs": [],
   "source": [
    "dm = df.melt(id_vars='Ano')"
   ]
  },
  {
   "cell_type": "code",
   "execution_count": 30,
   "id": "2e820c10-11c7-4c6d-9ef4-d368bf2cf021",
   "metadata": {
    "tags": []
   },
   "outputs": [
    {
     "data": {
      "image/png": "[encoded data removed]",
      "text/plain": [
       "<Figure size 800x600 with 1 Axes>"
      ]
     },
     "metadata": {},
     "output_type": "display_data"
    }
   ],
   "source": [
    "fig, ax = plt.subplots(figsize=(8,6))\n",
    "\n",
    "sns.barplot(data=dm, x='Ano', y='value', hue='variable', palette=['black', 'brown', 'grey', 'orange', 'green'], width=1.)#, stack=True)\n",
    "sns.despine(offset=10, trim=True);\n",
    "\n",
    "#ax.bar_label(ax.containers[0], color='w')\n",
    "\n",
    "ax.spines[['left','bottom']].set_visible(False)\n",
    "#ax.set_yticks([])\n",
    "ax.set_ylabel(\"\")\n",
    "ax.tick_params(axis='y', colors='w')\n",
    "ax.grid(axis='y')\n",
    "\n",
    "ax.set_xlabel(\"Ano\", fontsize=18, color='w')\n",
    "ax.set_title(\"Importação das fontes Portuguesas de energia em M€\", loc='left', fontsize=18, color='w')\n",
    "\n",
    "ax.xaxis.label.set_color('white')\n",
    "ax.tick_params(axis='x', colors='w')\n",
    "ax.text(0, 0.98, \"Fonte: DGEG\", va='top', transform=ax.transAxes, color='w')\n",
    "ax.annotate(\"Fonte: DGEG\", xy=(45,10), xycoords='figure points', color='w')\n",
    "\n",
    "ax.legend(frameon=False, fontsize=12, loc=(0.4,0.65), labelcolor='w', labelspacing=.3)\n",
    "\n",
    "plt.tight_layout()\n",
    "plt.savefig(\"fontes.png\", dpi=100, transparent=True)\n",
    "#plt.savefig(\"importacoes_transparente.png\", dpi=300, transparent=True)\n",
    "plt.show()"
   ]
  },
  {
   "cell_type": "code",
   "execution_count": 26,
   "id": "2c1e4548-e14b-4558-a77c-b75ae908d727",
   "metadata": {
    "tags": []
   },
   "outputs": [
    {
     "data": {
      "text/plain": [
       "<Axes: >"
      ]
     },
     "execution_count": 26,
     "metadata": {},
     "output_type": "execute_result"
    },
    {
     "data": {
      "image/png": "[encoded data removed]",
      "text/plain": [
       "<Figure size 640x480 with 1 Axes>"
      ]
     },
     "metadata": {},
     "output_type": "display_data"
    }
   ],
   "source": [
    "#df.plot(kind='bar', stacked=True, color=['black', 'brown', 'blue', 'orange', 'green'])"
   ]
  },
  {
   "cell_type": "code",
   "execution_count": null,
   "id": "499009eb-1bca-4ec1-963f-925e4d01147f",
   "metadata": {},
   "outputs": [],
   "source": []
  },
  {
   "cell_type": "code",
   "execution_count": null,
   "id": "92735295-dbd0-407f-911a-d76a3a87594f",
   "metadata": {},
   "outputs": [],
   "source": []
  },
  {
   "cell_type": "code",
   "execution_count": null,
   "id": "f083b157-9c6c-4a4d-ae07-0ae65ce925db",
   "metadata": {},
   "outputs": [],
   "source": []
  },
  {
   "cell_type": "code",
   "execution_count": 108,
   "id": "fe2ed58a-aebc-48e0-8dd4-14da54736f8c",
   "metadata": {
    "tags": []
   },
   "outputs": [
    {
     "data": {
      "image/png": "[encoded data removed]",
      "text/plain": [
       "<Figure size 576x432 with 1 Axes>"
      ]
     },
     "metadata": {
      "needs_background": "dark"
     },
     "output_type": "display_data"
    }
   ],
   "source": [
    "fig, ax = plt.subplots(figsize=(8,6))\n",
    "\n",
    "sns.barplot(data=df, x='ano', y='import',label=True, palette=df.color)\n",
    "sns.despine(offset=10, trim=True);\n",
    "\n",
    "ax.bar_label(ax.containers[0], color='w')\n",
    "\n",
    "ax.spines[['left', 'bottom']].set_visible(False)\n",
    "ax.set_yticks([])\n",
    "ax.set_ylabel(\"\")\n",
    "\n",
    "ax.set_xlabel(\"Ano\", fontsize=18, color='w')\n",
    "ax.set_title(\"Importações Portuguesas de eletricidade em M€\", loc='left', fontsize=18, color='w')\n",
    "\n",
    "ax.xaxis.label.set_color('white')\n",
    "ax.tick_params(axis='x', colors='w')\n",
    "ax.text(0, 0.98, \"Fonte: DGEG\", va='top', transform=ax.transAxes, color='w')\n",
    "#ax.annotate(\"Fonte: DGEG\", xy=(35,10), xycoords='figure points', color='w')\n",
    "\n",
    "plt.tight_layout()\n",
    "plt.savefig(\"importacoes.png\", dpi=300, transparent=True)\n",
    "#plt.savefig(\"importacoes_transparente.png\", dpi=300, transparent=True)\n",
    "plt.show()"
   ]
  },
  {
   "cell_type": "code",
   "execution_count": null,
   "id": "c8f3dabf-a8a8-41e0-beba-0a0dfb75db62",
   "metadata": {},
   "outputs": [],
   "source": []
  },
  {
   "cell_type": "code",
   "execution_count": null,
   "id": "37da6c11-bb62-4d88-ab8e-fe2b025039eb",
   "metadata": {},
   "outputs": [],
   "source": []
  }
 ],
 "metadata": {
  "kernelspec": {
   "display_name": "Python 3 (ipykernel)",
   "language": "python",
   "name": "python3"
  },
  "language_info": {
   "codemirror_mode": {
    "name": "ipython",
    "version": 3
   },
   "file_extension": ".py",
   "mimetype": "text/x-python",
   "name": "python",
   "nbconvert_exporter": "python",
   "pygments_lexer": "ipython3",
   "version": "3.11.5"
  }
 },
 "nbformat": 4,
 "nbformat_minor": 5
}
